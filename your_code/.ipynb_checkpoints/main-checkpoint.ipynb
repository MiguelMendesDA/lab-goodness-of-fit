{
 "cells": [
  {
   "cell_type": "markdown",
   "metadata": {},
   "source": [
    "## Question 1\n",
    "The following table indicates the number of 6-point scores in an American rugby match in the 1979 season.\n",
    "\n",
    "![](table1.png)\n",
    "\n",
    "Based on these results, we create a Poisson distribution with the sample mean parameter  = 2.435. Is there any reason to believe that at a .05 level the number of scores is a Poisson variable?\n",
    "Check [here](https://www.geeksforgeeks.org/how-to-create-a-poisson-probability-mass-function-plot-in-python/) how to create a poisson distribution and how to calculate the expected observations, using the probability mass function (pmf). \n",
    "A Poisson distribution is a discrete probability distribution. It gives the probability of an event happening a certain number of times (k) within a given interval of time or space. The Poisson distribution has only one parameter, λ (lambda), which is the mean number of events."
   ]
  },
  {
   "cell_type": "code",
   "execution_count": 3,
   "metadata": {},
   "outputs": [
    {
     "name": "stdout",
     "output_type": "stream",
     "text": [
      "At a 0.05 level of significance, we do not reject the null hypothesis. The data follows a Poisson distribution.\n"
     ]
    }
   ],
   "source": [
    "# your answer here\n",
    "import numpy as np\n",
    "from scipy.stats import chisquare\n",
    "from scipy.stats import poisson, chi2\n",
    "\n",
    "observed = np.array([35, 99, 104, 110, 62, 25, 10, 3])\n",
    "total_observed = np.sum(observed)\n",
    "lambda_param = 2.435\n",
    "\n",
    "expected = np.array([poisson.pmf(k, lambda_param) * total_observed for k in range(8)])\n",
    "expected[-2] += poisson.sf(6, lambda_param) * total_observed  # Adding probability for 7 or more\n",
    "\n",
    "# Adjusting expected frequencies to ensure the sum matches the total observed frequencies\n",
    "expected *= total_observed / np.sum(expected)\n",
    "\n",
    "# Performing chi-square goodness-of-fit test\n",
    "chi_square_stat, p_value = chisquare(observed, f_exp=expected)\n",
    "\n",
    "# Checking if there is reason to believe the data follows a Poisson distribution\n",
    "alpha = 0.05\n",
    "if p_value < alpha:\n",
    "    print(f\"At a {alpha} level of significance, we reject the null hypothesis. The data does not follow a Poisson distribution.\")\n",
    "else:\n",
    "    print(f\"At a {alpha} level of significance, we do not reject the null hypothesis. The data follows a Poisson distribution.\")\n",
    "\n"
   ]
  },
  {
   "cell_type": "markdown",
   "metadata": {},
   "source": [
    "## Question 2\n",
    "A researcher gathers information about the patterns of Physical Activity of children in the fifth grade of primary school of a public school. He defines three categories of physical activity (Low, Medium, High). He also inquires about the regular consumption of sugary drinks at school, and defines two categories (Yes = consumed, No = not consumed). We would like to evaluate if there is an association between patterns of physical activity and the consumption of sugary drinks for the children of this school, at a level of 5% significance. The results are in the following table: \n",
    "\n",
    "![](table4.png)"
   ]
  },
  {
   "cell_type": "code",
   "execution_count": 4,
   "metadata": {},
   "outputs": [
    {
     "name": "stdout",
     "output_type": "stream",
     "text": [
      "At a 0.05 level of significance, we reject the null hypothesis. There is evidence of an association between patterns of physical activity and the consumption of sugary drinks.\n"
     ]
    }
   ],
   "source": [
    "#your answer here\n",
    "import numpy as np\n",
    "from scipy.stats import chi2_contingency\n",
    "\n",
    "# Data\n",
    "low_yes = 32\n",
    "low_no = 12\n",
    "medium_yes = 14\n",
    "medium_no = 22\n",
    "high_yes = 6\n",
    "high_no = 9\n",
    "\n",
    "# Creating a contingency table\n",
    "data = np.array([[low_yes, low_no],\n",
    "                 [medium_yes, medium_no],\n",
    "                 [high_yes, high_no]])\n",
    "\n",
    "# Performing chi-square test of independence\n",
    "chi2, p, _, _ = chi2_contingency(data)\n",
    "\n",
    "# Checking the p-value against the significance level\n",
    "alpha = 0.05\n",
    "if p < alpha:\n",
    "    print(f\"At a {alpha} level of significance, we reject the null hypothesis. There is evidence of an association between patterns of physical activity and the consumption of sugary drinks.\")\n",
    "else:\n",
    "    print(f\"At a {alpha} level of significance, we do not reject the null hypothesis. There is no significant evidence of an association between patterns of physical activity and the consumption of sugary drinks.\")\n"
   ]
  }
 ],
 "metadata": {
  "kernelspec": {
   "display_name": "Python 3 (ipykernel)",
   "language": "python",
   "name": "python3"
  },
  "language_info": {
   "codemirror_mode": {
    "name": "ipython",
    "version": 3
   },
   "file_extension": ".py",
   "mimetype": "text/x-python",
   "name": "python",
   "nbconvert_exporter": "python",
   "pygments_lexer": "ipython3",
   "version": "3.11.4"
  }
 },
 "nbformat": 4,
 "nbformat_minor": 2
}
